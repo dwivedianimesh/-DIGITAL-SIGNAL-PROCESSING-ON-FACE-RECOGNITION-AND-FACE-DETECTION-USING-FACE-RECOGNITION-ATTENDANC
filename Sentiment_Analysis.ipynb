{
  "nbformat": 4,
  "nbformat_minor": 0,
  "metadata": {
    "colab": {
      "name": "Untitled2.ipynb",
      "provenance": [],
      "authorship_tag": "ABX9TyOc/YdFVngZHg+AJn0xBx17",
      "include_colab_link": true
    },
    "kernelspec": {
      "name": "python3",
      "display_name": "Python 3"
    },
    "language_info": {
      "name": "python"
    }
  },
  "cells": [
    {
      "cell_type": "markdown",
      "metadata": {
        "id": "view-in-github",
        "colab_type": "text"
      },
      "source": [
        "<a href=\"https://colab.research.google.com/github/dwivedianimesh/-DIGITAL-SIGNAL-PROCESSING-ON-FACE-RECOGNITION-AND-FACE-DETECTION-USING-FACE-RECOGNITION-ATTENDANC/blob/main/Sentiment_Analysis.ipynb\" target=\"_parent\"><img src=\"https://colab.research.google.com/assets/colab-badge.svg\" alt=\"Open In Colab\"/></a>"
      ]
    },
    {
      "cell_type": "code",
      "metadata": {
        "id": "PyB5eN5z3miU"
      },
      "source": [
        "import tensorflow_datasets as tfds\n",
        "import tensorflow as tf"
      ],
      "execution_count": null,
      "outputs": []
    }
  ]
}